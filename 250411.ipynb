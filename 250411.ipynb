{
 "cells": [
  {
   "cell_type": "code",
   "execution_count": 2,
   "id": "1441831d-d919-4ce8-8134-58c16dd0ed43",
   "metadata": {},
   "outputs": [
    {
     "name": "stdout",
     "output_type": "stream",
     "text": [
      "이 주민등록번호의 확인된 성별은 '남자'입니다\n"
     ]
    }
   ],
   "source": [
    "num = '030709-311111'\n",
    "\n",
    "if num[7] == '3':\n",
    "    print('이 주민등록번호의 확인된 성별은 \\'남자\\'입니다')\n",
    "elif num[7] == '2':\n",
    "    print('이 주민등록번호의 확인된 성별은 \\'여자\\'입니다')"
   ]
  },
  {
   "cell_type": "code",
   "execution_count": 5,
   "id": "4e745665-1410-46af-ac48-dd45411bc79c",
   "metadata": {},
   "outputs": [
    {
     "name": "stdin",
     "output_type": "stream",
     "text": [
      "문자열:  abb\n"
     ]
    },
    {
     "name": "stdout",
     "output_type": "stream",
     "text": [
      "회문아님.\n"
     ]
    }
   ],
   "source": [
    "s1 = input('문자열: ')\n",
    "s2 = ''\n",
    "\n",
    "for i in range(len(s1)-1,-1,-1):\n",
    "    s2 = s2 + s1[i]\n",
    "\n",
    "if s2 == s1:\n",
    "    print('회문이다.')\n",
    "else:\n",
    "    print('회문아님.')\n",
    "        "
   ]
  },
  {
   "cell_type": "code",
   "execution_count": 8,
   "id": "b8ec8b85-bf7a-4717-abda-c71ff68c8af2",
   "metadata": {},
   "outputs": [
    {
     "name": "stdout",
     "output_type": "stream",
     "text": [
      "['부산시', '금정구']\n"
     ]
    }
   ],
   "source": [
    "s = '부산시 금정구'\n",
    "print(s.split(' '))"
   ]
  },
  {
   "cell_type": "code",
   "execution_count": 18,
   "id": "93b1ae5f-59f0-47d0-973b-3da77dbffde7",
   "metadata": {},
   "outputs": [
    {
     "name": "stdin",
     "output_type": "stream",
     "text": [
      "비밀번호를 입력하세요: 123\n"
     ]
    },
    {
     "name": "stdout",
     "output_type": "stream",
     "text": [
      "통과\n"
     ]
    }
   ],
   "source": [
    "while True:\n",
    "    pw = input('비밀번호를 입력하세요:')\n",
    "    if pw.isalnum() == True:\n",
    "        print('통과')\n",
    "        break\n",
    "    else:\n",
    "        print('다시입력')\n",
    "\n",
    "    "
   ]
  },
  {
   "cell_type": "code",
   "execution_count": null,
   "id": "bfb7857c-a87d-4a80-bd08-dbf0faeb25bb",
   "metadata": {},
   "outputs": [],
   "source": []
  }
 ],
 "metadata": {
  "kernelspec": {
   "display_name": "Python 3 (ipykernel)",
   "language": "python",
   "name": "python3"
  },
  "language_info": {
   "codemirror_mode": {
    "name": "ipython",
    "version": 3
   },
   "file_extension": ".py",
   "mimetype": "text/x-python",
   "name": "python",
   "nbconvert_exporter": "python",
   "pygments_lexer": "ipython3",
   "version": "3.12.6"
  }
 },
 "nbformat": 4,
 "nbformat_minor": 5
}
