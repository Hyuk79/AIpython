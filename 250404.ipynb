{
 "cells": [
  {
   "cell_type": "code",
   "execution_count": 4,
   "id": "9d1f3567-850e-41ab-b5b8-e3b3506a533b",
   "metadata": {},
   "outputs": [
    {
     "name": "stdin",
     "output_type": "stream",
     "text": [
      "온도의 종류를 입력하세요. 섭씨\n",
      "섭씨온도 17\n"
     ]
    },
    {
     "name": "stdout",
     "output_type": "stream",
     "text": [
      "화씨온도:62.6\n"
     ]
    }
   ],
   "source": [
    "kind = input('온도의 종류를 입력하세요.')\n",
    "temp = int(input(kind+'온도'))\n",
    "if kind == '섭씨':\n",
    "    temp1 = temp*9/5+32\n",
    "    print(f\"화씨온도:{temp1}\")\n",
    "else:\n",
    "    temp2 = (temp-32)*5/9\n",
    "    print(f\"섭씨온도:{temp2}\")\n",
    "    "
   ]
  },
  {
   "cell_type": "code",
   "execution_count": 12,
   "id": "e8488d57-8bfd-40d4-96fe-fc64fd835015",
   "metadata": {},
   "outputs": [
    {
     "name": "stdin",
     "output_type": "stream",
     "text": [
      "온도의 종류를 입력하세요. 섭씨\n",
      "섭씨온도 20\n"
     ]
    },
    {
     "name": "stdout",
     "output_type": "stream",
     "text": [
      "화씨온도: 68.00\n"
     ]
    }
   ],
   "source": [
    "kind = input('온도의 종류를 입력하세요.')\n",
    "temp = float(input(kind+'온도'))\n",
    "if kind == '섭씨':\n",
    "    temp1 = temp*9/5+32\n",
    "    print('화씨온도: %0.2f' %temp1)\n",
    "else:\n",
    "    temp2 = (temp-32)*5/9\n",
    "    print('섭씨온도: %0.2f' %temp2)"
   ]
  },
  {
   "cell_type": "code",
   "execution_count": 28,
   "id": "d2d8008a-37da-4b7e-86d5-e32ff7a7bf55",
   "metadata": {},
   "outputs": [
    {
     "name": "stdout",
     "output_type": "stream",
     "text": [
      "28\n"
     ]
    },
    {
     "name": "stdin",
     "output_type": "stream",
     "text": [
      "1에서100사이 정수 입력: 23\n"
     ]
    },
    {
     "name": "stdout",
     "output_type": "stream",
     "text": [
      "23보다 큽니다.\n"
     ]
    },
    {
     "name": "stdin",
     "output_type": "stream",
     "text": [
      "1에서100사이 정수 입력: 28\n"
     ]
    },
    {
     "name": "stdout",
     "output_type": "stream",
     "text": [
      "정답입니다. 2번 만에 맞혔습니다.\n"
     ]
    }
   ],
   "source": [
    "import random\n",
    "\n",
    "answer = random.randint(1,100)\n",
    "time = 0\n",
    "print(answer)\n",
    "while True:\n",
    "    user = int(input(\"1에서100사이 정수 입력:\"))\n",
    "    time += 1\n",
    "    if answer == user:\n",
    "        break\n",
    "    elif answer > user:\n",
    "        print(f\"{user}보다 큽니다.\")\n",
    "    else:\n",
    "        print(f\"{user}보다 작습니다.\")\n",
    "\n",
    "print(f\"정답입니다. {time}번 만에 맞혔습니다.\")"
   ]
  },
  {
   "cell_type": "code",
   "execution_count": 34,
   "id": "c3daa4c7-7e3f-431a-a23f-b7f1fe313161",
   "metadata": {},
   "outputs": [
    {
     "name": "stdout",
     "output_type": "stream",
     "text": [
      "[16, 35, 23, 13, 30, 9]\n"
     ]
    }
   ],
   "source": [
    "import random\n",
    "\n",
    "List = []\n",
    "\n",
    "count = 0\n",
    "# while count < 6:\n",
    "#    num1 = random.randint(1,45)\n",
    "#   List.append(num1)\n",
    "#    count += 1\n",
    "for i in range(1,7):\n",
    "    num1 = random.randint(1,45)\n",
    "    List.append(num1)\n",
    "print(List)"
   ]
  },
  {
   "cell_type": "code",
   "execution_count": 64,
   "id": "211b6f24-26a6-49eb-9b97-eaa1c1832ecb",
   "metadata": {},
   "outputs": [
    {
     "name": "stdout",
     "output_type": "stream",
     "text": [
      "86.4\n"
     ]
    }
   ],
   "source": [
    "성적 = [85, 92, 78, 90, 87]\n",
    "총합계 = 0\n",
    "항목 = 0\n",
    "\n",
    "for 점수 in 성적:\n",
    "    총합계 += 점수\n",
    "    항목 += 1\n",
    "    \n",
    "평균 = 총합계/항목\n",
    "\n",
    "print(평균)"
   ]
  },
  {
   "cell_type": "code",
   "execution_count": null,
   "id": "2710a09d-52d0-4414-8fda-f4dc63fb8923",
   "metadata": {},
   "outputs": [],
   "source": []
  }
 ],
 "metadata": {
  "kernelspec": {
   "display_name": "Python 3 (ipykernel)",
   "language": "python",
   "name": "python3"
  },
  "language_info": {
   "codemirror_mode": {
    "name": "ipython",
    "version": 3
   },
   "file_extension": ".py",
   "mimetype": "text/x-python",
   "name": "python",
   "nbconvert_exporter": "python",
   "pygments_lexer": "ipython3",
   "version": "3.12.6"
  }
 },
 "nbformat": 4,
 "nbformat_minor": 5
}
