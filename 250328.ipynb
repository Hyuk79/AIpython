{
  "nbformat": 4,
  "nbformat_minor": 0,
  "metadata": {
    "colab": {
      "provenance": [],
      "authorship_tag": "ABX9TyMFoUj3H/WXB6s/8/UzI1nQ",
      "include_colab_link": true
    },
    "kernelspec": {
      "name": "python3",
      "display_name": "Python 3"
    },
    "language_info": {
      "name": "python"
    }
  },
  "cells": [
    {
      "cell_type": "markdown",
      "metadata": {
        "id": "view-in-github",
        "colab_type": "text"
      },
      "source": [
        "<a href=\"https://colab.research.google.com/github/Hyuk79/AIpython/blob/main/250328.ipynb\" target=\"_parent\"><img src=\"https://colab.research.google.com/assets/colab-badge.svg\" alt=\"Open In Colab\"/></a>"
      ]
    },
    {
      "cell_type": "code",
      "execution_count": 3,
      "metadata": {
        "colab": {
          "base_uri": "https://localhost:8080/"
        },
        "id": "w5EhYJz8Q4dF",
        "outputId": "9d0330b2-7293-40d2-a4ad-b96f9ea25f8a"
      },
      "outputs": [
        {
          "output_type": "stream",
          "name": "stdout",
          "text": [
            "첫번째 정수를 입력하세요.2\n",
            "두번째 정수를 입력하세요.2\n",
            "2과(와) 2은(는) 같습니다.\n"
          ]
        }
      ],
      "source": [
        "num1 = int(input(\"첫번째 정수를 입력하세요.\"))\n",
        "num2 = int(input(\"두번째 정수를 입력하세요.\"))\n",
        "\n",
        "if num1 > num2:\n",
        "  print(f\"{num1}은(는) {num2}보다 큽니다.\")\n",
        "elif num1 < num2:\n",
        "  print(f\"{num1}은(는) {num2}보다 작습니다.\")\n",
        "else:\n",
        "  print(f\"{num1}과(와) {num2}은(는) 같습니다.\")"
      ]
    },
    {
      "cell_type": "code",
      "source": [
        "num1 = int(input(\"첫 번째 정수를 입력하세요.\"))\n",
        "print(f\"첫 번째 수: {num1}\")\n",
        "\n",
        "num2 = int(input(\"두 번째 정수를 입력하세요.\"))\n",
        "print(f\"두 번째 수: {num2}\")\n",
        "num3 = int(input(\"세 번째 정수를 입력하세요.\"))\n",
        "print(f\"세 번째 수: {num3}\")\n",
        "\n",
        "max_num = num1\n",
        "\n",
        "if max_num < num2:\n",
        "  print(f\"두 번째 수 {num2}가 현재 최대값 {max_num}보다 큽니다. 촤대값을 업데이트합니다.\")\n",
        "  max_num = num2\n",
        "else:\n",
        "  print(f\"두 번째 수 {num2}가 현재 최대값 {max_num}보다 크지 않습니다.\")\n",
        "\n",
        "if max_num < num3:\n",
        "  print(f\"세 번째 수 {num3}가 현재 최대값 {max_num}보다 큽니다. 촤대값을 업데이트합니다.\")\n",
        "  max_num = num3\n",
        "else:\n",
        "  print(f\"세 번째 수 {num3}가 현재 최대값 {max_num}보다 크지 않습니다.\")\n",
        "\n",
        "print(f\"\\n입력하신 세 수 {num1}, {num2}, {num3} 중에서 가장 큰 수는 {max_num}입니다.\")"
      ],
      "metadata": {
        "colab": {
          "base_uri": "https://localhost:8080/"
        },
        "id": "0nx0EnuFXIMO",
        "outputId": "7eac316b-f7d4-4489-c318-779d6151335a"
      },
      "execution_count": 7,
      "outputs": [
        {
          "output_type": "stream",
          "name": "stdout",
          "text": [
            "첫 번째 정수를 입력하세요.4\n",
            "첫 번째 수: 4\n",
            "두 번째 정수를 입력하세요.3\n",
            "두 번째 수: 3\n",
            "세 번째 정수를 입력하세요.7\n",
            "세 번째 수: 7\n",
            "두 번째 수 3가 현재 최대값 4보다 크지 않습니다.\n",
            "세 번째 수 7가 현재 최대값 4보다 큽니다. 촤대값을 업데이트합니다.\n",
            "\n",
            "입력하신 세 수 4, 3, 7 중에서 가장 큰 수는 7입니다.\n"
          ]
        }
      ]
    },
    {
      "cell_type": "code",
      "source": [
        "score = int(input(\"점수를 입력하세요.\"))\n",
        "\n",
        "if 0 <= score <= 100:\n",
        "  if score >= 90:\n",
        "    grade = 'A'\n",
        "  elif score >= 80:\n",
        "    grade = 'B'\n",
        "  elif score >= 70:\n",
        "    grade = 'C'\n",
        "  elif score >= 60:\n",
        "    grade = 'D'\n",
        "  else:\n",
        "    grade = 'F'\n",
        "  print(f\"당신의 학점은 {grade} 입니다.\")\n",
        "else:\n",
        "  print(\"점수를 0에서 100사이의 숫자를 입력하세요.\")"
      ],
      "metadata": {
        "colab": {
          "base_uri": "https://localhost:8080/"
        },
        "id": "CnsLm9X7aCbO",
        "outputId": "74ba8d3c-6038-4a07-d07c-5f1e74ff02d0"
      },
      "execution_count": 21,
      "outputs": [
        {
          "output_type": "stream",
          "name": "stdout",
          "text": [
            "점수를 입력하세요.90\n",
            "당신의 학점은 A 입니다.\n"
          ]
        }
      ]
    },
    {
      "cell_type": "code",
      "source": [
        "year = int(input(\"연도를 입력하세요.\"))\n",
        "\n",
        "if (year % 4 == 0 and year % 100 != 0) or (year % 400 == 0):\n",
        "  print(f\"{year}년은 윤년입니다.\")\n",
        "else:\n",
        "  print(f\"{year}년은 윤년이 아닙니다.\")"
      ],
      "metadata": {
        "colab": {
          "base_uri": "https://localhost:8080/"
        },
        "id": "YvwIoY5QdUbt",
        "outputId": "073cdb7a-7c19-4cbb-cc7d-bec495bccb93"
      },
      "execution_count": 23,
      "outputs": [
        {
          "output_type": "stream",
          "name": "stdout",
          "text": [
            "연도를 입력하세요.2004\n",
            "2004년은 윤년입니다.\n"
          ]
        }
      ]
    },
    {
      "cell_type": "code",
      "source": [
        "for i in range(1, 6):  #[1,2,3,4,5]: 리스트 문\n",
        "  print(i)"
      ],
      "metadata": {
        "colab": {
          "base_uri": "https://localhost:8080/"
        },
        "id": "vnXuDx-tgXZN",
        "outputId": "440426a8-8e0c-4156-f839-f8ffe5b43ae4"
      },
      "execution_count": 42,
      "outputs": [
        {
          "output_type": "stream",
          "name": "stdout",
          "text": [
            "1\n",
            "2\n",
            "3\n",
            "4\n",
            "5\n"
          ]
        }
      ]
    },
    {
      "cell_type": "code",
      "source": [
        "n = int(input(\"양의 정수 n을 입력해주세요.\"))\n",
        "total = 0\n",
        "for i in range(1, n+1):\n",
        "  total += i\n",
        "print(f\"1부터 {n}까지의 합은 {total}입니다.\")"
      ],
      "metadata": {
        "colab": {
          "base_uri": "https://localhost:8080/"
        },
        "id": "xEyaPVeslRac",
        "outputId": "0b6e1c75-7630-4e99-d6e7-4cc3f6773d19"
      },
      "execution_count": 47,
      "outputs": [
        {
          "output_type": "stream",
          "name": "stdout",
          "text": [
            "양의 정수 n을 입력해주세요.5\n",
            "1부터 5까지의 합은 15입니다.\n"
          ]
        }
      ]
    },
    {
      "cell_type": "code",
      "source": [
        "count = 0\n",
        "while count < 10:\n",
        "  print(count)\n",
        "  count += 1\n",
        "for count in range(10):\n",
        "  print(count)"
      ],
      "metadata": {
        "colab": {
          "base_uri": "https://localhost:8080/"
        },
        "id": "J1ZOyEr-q17L",
        "outputId": "4351e47e-bc74-400e-d1e4-a65605d1af3f"
      },
      "execution_count": 54,
      "outputs": [
        {
          "output_type": "stream",
          "name": "stdout",
          "text": [
            "0\n",
            "1\n",
            "2\n",
            "3\n",
            "4\n",
            "5\n",
            "6\n",
            "7\n",
            "8\n",
            "9\n",
            "0\n",
            "1\n",
            "2\n",
            "3\n",
            "4\n",
            "5\n",
            "6\n",
            "7\n",
            "8\n",
            "9\n"
          ]
        }
      ]
    },
    {
      "cell_type": "code",
      "source": [],
      "metadata": {
        "id": "4Zf6BBE5spob"
      },
      "execution_count": null,
      "outputs": []
    }
  ]
}