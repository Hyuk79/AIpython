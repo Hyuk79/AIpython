{
  "nbformat": 4,
  "nbformat_minor": 0,
  "metadata": {
    "colab": {
      "provenance": []
    },
    "kernelspec": {
      "name": "python3",
      "display_name": "Python 3"
    },
    "language_info": {
      "name": "python"
    }
  },
  "cells": [
    {
      "cell_type": "code",
      "execution_count": 24,
      "metadata": {
        "colab": {
          "base_uri": "https://localhost:8080/"
        },
        "id": "o7tkOdqVdcwC",
        "outputId": "3618728c-e19f-4339-cea1-61a141d1e138"
      },
      "outputs": [
        {
          "output_type": "stream",
          "name": "stdout",
          "text": [
            "반지름이 5인 원의 면적은 78.5398 입니다\n"
          ]
        }
      ],
      "source": [
        "#문제1. 반지름이 5인 원의 면적을 구하시오. 원주율 값은 3.141592로 계산합니다.\n",
        "r = 5\n",
        "PI = 3.141592\n",
        "\n",
        "area = PI * r ** 2\n",
        "\n",
        "print(f\"반지름이 {r}인 원의 면적은 {area} 입니다\")"
      ]
    },
    {
      "cell_type": "code",
      "source": [
        "#문제2. 분(정수)을 시간과 분으로 변환하여 출력하시오.\n",
        "time = 100\n",
        "\n",
        "hour = int(time / 60)\n",
        "minute = int(time % 60)\n",
        "\n",
        "print(f\"{time}분은 {hour}시간 {minute}분 입니다.\")"
      ],
      "metadata": {
        "colab": {
          "base_uri": "https://localhost:8080/"
        },
        "id": "n9WTBzfIeMik",
        "outputId": "b4c60eb0-8fa6-4bcf-a039-9868b2e79a03"
      },
      "execution_count": 22,
      "outputs": [
        {
          "output_type": "stream",
          "name": "stdout",
          "text": [
            "100분은 1시간 40분 입니다.\n"
          ]
        }
      ]
    }
  ]
}